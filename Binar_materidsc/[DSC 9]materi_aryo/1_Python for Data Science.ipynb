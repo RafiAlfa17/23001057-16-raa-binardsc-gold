{
 "cells": [
  {
   "attachments": {},
   "cell_type": "markdown",
   "metadata": {},
   "source": [
    "# Modul 1 : Python for Data Science\n",
    "\n",
    "First we will learn about basic programming with Python to utilize it's library and usage in data science\n",
    "\n",
    "Let's learn. "
   ]
  },
  {
   "attachments": {},
   "cell_type": "markdown",
   "metadata": {},
   "source": [
    "___ \n",
    "## Introduction to Python\n",
    "Python is the world's fastest growing programming language. It used not only by Software Engineers, Mathematicians, Data Analysts, Scientist, Accountants, Network Engineers and even kids because it's ideal programming languange to learn first.\n",
    "1. Solve complex problems in __less time__ with __fewer lines of code__\n",
    "2. Python is multi-purpose language\n",
    "3. Python is High-level language, Cross-platform, having Huge Community and Large Ecosystem of Library, frameworks and tools\n",
    "\n",
    "\n",
    "### 1. REPL\n",
    "\n",
    "![repl](https://github.com/BenedictusAryo/documents_assets/raw/master/New%20CourseMap/exercise_assets/repl.gif)\n",
    "\n",
    "### 2. IPython\n",
    "\n",
    "![ipython](https://github.com/BenedictusAryo/documents_assets/raw/master/New%20CourseMap/exercise_assets/ipython.gif)\n",
    "\n",
    "### 3. IPython Notebook --> Jupyter Notebook\n"
   ]
  },
  {
   "attachments": {},
   "cell_type": "markdown",
   "metadata": {},
   "source": [
    "___\n",
    "## Basic Python\n",
    "\n",
    "\n",
    "### 1. Print Function\n",
    "* print()\n",
    "* print formatting\n",
    "\n",
    "Print is built-in function in python. to use print function, type `print()`\n",
    "\n",
    "**Exercise:** `print(\"Hello world\")`"
   ]
  },
  {
   "cell_type": "code",
   "execution_count": null,
   "metadata": {},
   "outputs": [],
   "source": []
  },
  {
   "attachments": {},
   "cell_type": "markdown",
   "metadata": {},
   "source": [
    "**Exercise:** print your name and age"
   ]
  },
  {
   "cell_type": "code",
   "execution_count": null,
   "metadata": {},
   "outputs": [],
   "source": []
  },
  {
   "attachments": {},
   "cell_type": "markdown",
   "metadata": {},
   "source": [
    "**Print Formatting**\n",
    "\n",
    "```python\n",
    "name = Aryo\n",
    "print(\"Hello, my name is {}. Nice to meet you !\".format(name))\n",
    "```"
   ]
  },
  {
   "cell_type": "code",
   "execution_count": null,
   "metadata": {},
   "outputs": [],
   "source": []
  },
  {
   "attachments": {},
   "cell_type": "markdown",
   "metadata": {},
   "source": [
    "## 2. Variable\n",
    "\n",
    "We use Variable to store data in memory\n",
    "\n",
    "Example :\n",
    "```python\n",
    "students_count = 1000\n",
    "```"
   ]
  },
  {
   "cell_type": "code",
   "execution_count": null,
   "metadata": {},
   "outputs": [],
   "source": []
  },
  {
   "cell_type": "code",
   "execution_count": null,
   "metadata": {},
   "outputs": [],
   "source": []
  },
  {
   "cell_type": "code",
   "execution_count": null,
   "metadata": {},
   "outputs": [],
   "source": []
  },
  {
   "attachments": {},
   "cell_type": "markdown",
   "metadata": {},
   "source": [
    "## 3. Data Type\n",
    "\n",
    "What kind of data that we can save in the variable ?\n",
    "\n",
    "Python will automatically assign the data type. \n",
    "\n",
    "```python\n",
    "students_count = 100\n",
    "rating = 4.99\n",
    "is_published = True\n",
    "course_name = \"Python Programming\"\n",
    "```\n",
    "\n",
    "to check the datatype you can use `type()`"
   ]
  },
  {
   "cell_type": "code",
   "execution_count": null,
   "metadata": {},
   "outputs": [],
   "source": []
  },
  {
   "cell_type": "code",
   "execution_count": null,
   "metadata": {},
   "outputs": [],
   "source": []
  },
  {
   "cell_type": "code",
   "execution_count": null,
   "metadata": {},
   "outputs": [],
   "source": []
  },
  {
   "attachments": {},
   "cell_type": "markdown",
   "metadata": {},
   "source": [
    "In general, there are 3 data types:\n",
    "- Integer\n",
    "- Float\n",
    "- String\n",
    "\n",
    "### Integer\n",
    "**Exercise:** Insert following number, assign to variable, then print them\n",
    "\n",
    "```python\n",
    "apel = 4\n",
    "jeruk = 5\n",
    "total_buah = apel + jeruk\n",
    "\n",
    "print(total_buah)\n",
    "```"
   ]
  },
  {
   "cell_type": "code",
   "execution_count": null,
   "metadata": {},
   "outputs": [],
   "source": []
  },
  {
   "cell_type": "code",
   "execution_count": null,
   "metadata": {},
   "outputs": [],
   "source": []
  },
  {
   "attachments": {},
   "cell_type": "markdown",
   "metadata": {},
   "source": [
    "### Float\n",
    "\n",
    "The float type in Python designates a floating-point number. `float` values are specified with a decimal point.[more-resource](https://realpython.com/python-data-types/)\n",
    "\n",
    "```python\n",
    "panjang = 10.5\n",
    "lebar = 4.6\n",
    "```"
   ]
  },
  {
   "cell_type": "code",
   "execution_count": null,
   "metadata": {},
   "outputs": [],
   "source": []
  },
  {
   "attachments": {},
   "cell_type": "markdown",
   "metadata": {},
   "source": [
    "**Exercise:** Create variable called `luas` which `panjang * lebar`. And check data type of `luas`"
   ]
  },
  {
   "cell_type": "code",
   "execution_count": null,
   "metadata": {},
   "outputs": [],
   "source": []
  },
  {
   "cell_type": "code",
   "execution_count": null,
   "metadata": {},
   "outputs": [],
   "source": []
  },
  {
   "attachments": {},
   "cell_type": "markdown",
   "metadata": {},
   "source": [
    "### Boolean\n",
    "\n",
    "only consist of `True` or `False` value with capital T and F\n",
    "\n",
    "```python\n",
    "is_published = True\n",
    "type(is_published)\n",
    "```"
   ]
  },
  {
   "cell_type": "code",
   "execution_count": null,
   "metadata": {},
   "outputs": [],
   "source": []
  },
  {
   "cell_type": "code",
   "execution_count": null,
   "metadata": {},
   "outputs": [],
   "source": []
  },
  {
   "attachments": {},
   "cell_type": "markdown",
   "metadata": {},
   "source": [
    "### String\n",
    "\n",
    "Strings are sequences of character data. The string type in Python is called `str`.\n",
    "\n",
    "String literals may be delimited using either single or double quotes. All the characters between the opening delimiter and matching closing delimiter are part of the string [more-resource](https://realpython.com/python-data-types/)\n",
    "\n",
    "**Note:** String should be delimited using `'string' or \"string\"`\n",
    "\n",
    "**Exercise:**  create variable called `kalimat` with below sentences and print them\n",
    "```\n",
    "That's why I Love you\n",
    "```"
   ]
  },
  {
   "cell_type": "code",
   "execution_count": null,
   "metadata": {},
   "outputs": [],
   "source": []
  },
  {
   "cell_type": "code",
   "execution_count": null,
   "metadata": {},
   "outputs": [],
   "source": []
  },
  {
   "attachments": {},
   "cell_type": "markdown",
   "metadata": {},
   "source": [
    "### Built-in Function for string\n",
    "#### len()\n",
    "we can use function `len()` to count the length of value and _argument_ of value/variable you want to count.\n",
    "```python\n",
    "course = \"Make-AI Data Science Course\"\n",
    "len(course)\n",
    "```"
   ]
  },
  {
   "cell_type": "code",
   "execution_count": null,
   "metadata": {},
   "outputs": [],
   "source": []
  },
  {
   "cell_type": "code",
   "execution_count": null,
   "metadata": {},
   "outputs": [],
   "source": []
  },
  {
   "attachments": {},
   "cell_type": "markdown",
   "metadata": {},
   "source": [
    "#### String Method \n",
    "\n",
    "We can use function `.upper()`, `.lower()` and also `.title()` \n",
    "\n",
    "Given this variable:\n",
    "```python\n",
    "course = 'daTa sCience'\n",
    "```\n",
    "Make the `course` string\n",
    "* uppercase: DATA SCIENCE\n",
    "* Capitalize: Data science\n",
    "* lowercase: data science\n",
    "* Capitalize each word: Data Science"
   ]
  },
  {
   "cell_type": "code",
   "execution_count": null,
   "metadata": {},
   "outputs": [],
   "source": []
  },
  {
   "cell_type": "code",
   "execution_count": null,
   "metadata": {},
   "outputs": [],
   "source": []
  },
  {
   "cell_type": "code",
   "execution_count": null,
   "metadata": {},
   "outputs": [],
   "source": []
  },
  {
   "cell_type": "code",
   "execution_count": null,
   "metadata": {},
   "outputs": [],
   "source": []
  },
  {
   "cell_type": "code",
   "execution_count": null,
   "metadata": {},
   "outputs": [],
   "source": []
  },
  {
   "attachments": {},
   "cell_type": "markdown",
   "metadata": {},
   "source": [
    "To remove the white space, we can use function `.strip()`, `lstrip()`, `.rstrip()`.\n",
    "\n",
    "We can also replace with `.replace(\"old\", \"new\")`\n",
    "\n",
    "\n",
    "_Practice :_\n",
    "```python\n",
    "course = \"  Binar Data Science Course \"\n",
    "```\n",
    "Remove empty space before Make-AI and replace `Course` with `Learning`"
   ]
  },
  {
   "cell_type": "code",
   "execution_count": null,
   "metadata": {},
   "outputs": [],
   "source": []
  },
  {
   "attachments": {},
   "cell_type": "markdown",
   "metadata": {},
   "source": [
    "#### String Slicing\n",
    "Python string can use indexing to call some character. You can use bracket notation to get access to specific elements or characters\n",
    "```python\n",
    "course = \"Binar Data Science Course\"\n",
    "course[0]\n",
    "course[-1]\n",
    "course[0:3]\n",
    "course[4:]\n",
    "course[:3]\n",
    "course[:]\n",
    "```"
   ]
  },
  {
   "cell_type": "code",
   "execution_count": null,
   "metadata": {},
   "outputs": [],
   "source": []
  },
  {
   "cell_type": "code",
   "execution_count": null,
   "metadata": {},
   "outputs": [],
   "source": []
  },
  {
   "cell_type": "code",
   "execution_count": null,
   "metadata": {},
   "outputs": [],
   "source": []
  },
  {
   "cell_type": "code",
   "execution_count": null,
   "metadata": {},
   "outputs": [],
   "source": []
  },
  {
   "attachments": {},
   "cell_type": "markdown",
   "metadata": {},
   "source": [
    "**Exercise:** Declare variable `nama` :\n",
    "```python\n",
    "nama = 'badillah'\n",
    "```\n",
    "Using print function using `nama` above, so it can print below result\n",
    "```python\n",
    "Halo, Nama saya Badillah, saya sering dipanggil Badi.\n",
    "```"
   ]
  },
  {
   "cell_type": "code",
   "execution_count": null,
   "metadata": {},
   "outputs": [],
   "source": []
  },
  {
   "cell_type": "code",
   "execution_count": null,
   "metadata": {},
   "outputs": [],
   "source": []
  },
  {
   "attachments": {},
   "cell_type": "markdown",
   "metadata": {},
   "source": [
    "#### Double Quotes and Single Quotes\n",
    "1. Python can use double quote and single quote\n",
    "2. Using Prefix \\\n",
    "3. Double \\\\ to add \\ in the string\n",
    "4. Add \\n to print in the new line\n",
    "5. To print multiple line of string you can use 3 times quote\n",
    "\n",
    "**Exercise:** \n",
    "```python\n",
    "message = \"\"\"\n",
    "Dear Diary,\n",
    "Today was very bad day\n",
    "\"\"\"\n",
    "print(message)\n",
    "```"
   ]
  },
  {
   "cell_type": "code",
   "execution_count": null,
   "metadata": {},
   "outputs": [],
   "source": []
  },
  {
   "cell_type": "code",
   "execution_count": 1,
   "metadata": {},
   "outputs": [
    {
     "name": "stdout",
     "output_type": "stream",
     "text": [
      "\n",
      "Dear Diary,\n",
      "Today was very bad day\n",
      "\n"
     ]
    }
   ],
   "source": []
  },
  {
   "attachments": {},
   "cell_type": "markdown",
   "metadata": {},
   "source": [
    "#### String Formatting\n",
    "\n",
    "```python\n",
    "first_name = \"Benedict\"\n",
    "last_name = \"Aryo\"\n",
    "full_name = ?\n",
    "```\n",
    "**Concatenating String :**\n",
    "```python\n",
    "first_name + \" \" + last_name\n",
    "```\n",
    "**String Formatting :**\n",
    "```python\n",
    "# Method 1\n",
    "\"{} {}\".format(first_name, last_name)\"\n",
    "\n",
    "# Method 2\n",
    "f\"{first_name} {last_name}\"\n",
    "```"
   ]
  },
  {
   "cell_type": "code",
   "execution_count": null,
   "metadata": {},
   "outputs": [],
   "source": []
  },
  {
   "attachments": {},
   "cell_type": "markdown",
   "metadata": {},
   "source": [
    "## 4. Data Structure\n",
    "### 4.1. List\n",
    "List is Built-in Data Structure in Python, to create list use `[]` square bracket.\n",
    "\n",
    "_Practice :_\n",
    "```python\n",
    "letters = [\"a\", \"b\", \"c\"]\n",
    "numbers = [1, 2, 3]\n",
    "mixed = [1, \"b\", 3.5]\n",
    "matrix = [[0, 1], [2, 3]]\n",
    "nested = [1, 2, [\"a\", [3, 4], \"b\"]]\n",
    "zeros = [0] * 5\n",
    "combined = zeros + letters\n",
    "list_func = list(range(20))\n",
    "chars = list(\"Hello world\")\n",
    "```\n"
   ]
  },
  {
   "cell_type": "code",
   "execution_count": null,
   "metadata": {},
   "outputs": [],
   "source": []
  },
  {
   "attachments": {},
   "cell_type": "markdown",
   "metadata": {},
   "source": [
    "#### Accessing element in list\n",
    "To access element in list, we can use square bracket `[index]` with index number of the element wanted to slice the list\n",
    "\n",
    "_Exercise :_\n",
    "```python\n",
    "vowels = [\"a\", \"i\", \"u\", \"e\", \"o\"]\n",
    "```\n",
    "1. Replace \"a\" with \"A\"\n",
    "2. Get first 3 value\n",
    "3. Get last 2 value"
   ]
  },
  {
   "cell_type": "code",
   "execution_count": null,
   "metadata": {},
   "outputs": [],
   "source": []
  },
  {
   "cell_type": "code",
   "execution_count": null,
   "metadata": {},
   "outputs": [],
   "source": []
  },
  {
   "cell_type": "code",
   "execution_count": null,
   "metadata": {},
   "outputs": [],
   "source": []
  },
  {
   "attachments": {},
   "cell_type": "markdown",
   "metadata": {},
   "source": [
    "#### Append element to list\n",
    "using `list.append('new')`\n",
    "\n",
    "**Exercise:**\n",
    "```python\n",
    "murid = ['Andi','Budi','Susi']\n",
    "```\n",
    "Add `'Yanti'` to the list `murid`"
   ]
  },
  {
   "cell_type": "code",
   "execution_count": null,
   "metadata": {},
   "outputs": [],
   "source": []
  },
  {
   "attachments": {},
   "cell_type": "markdown",
   "metadata": {},
   "source": [
    "### 4.2. Dictionary\n",
    "Dictionary is collections of key, value pairs. We use Dictionary to map value to its key.\n",
    "`name -> contact`\n",
    "\n",
    "```python\n",
    "point = {\"x\": 1, \"y\": 2}\n",
    "point = dict(x=1, y=2)\n",
    "\n",
    "```\n",
    "Because Dictionary is ollections of key, value pairs we cannot access on item with numeric index\n",
    "```python\n",
    "point[\"x\"]\n",
    "```\n",
    "Assign value / new value:\n",
    "```python\n",
    "point[\"x\"] = 10\n",
    "point[\"y\"] = 20\n",
    "```"
   ]
  },
  {
   "cell_type": "code",
   "execution_count": null,
   "metadata": {},
   "outputs": [],
   "source": []
  },
  {
   "cell_type": "code",
   "execution_count": null,
   "metadata": {},
   "outputs": [],
   "source": []
  },
  {
   "cell_type": "code",
   "execution_count": null,
   "metadata": {},
   "outputs": [],
   "source": []
  },
  {
   "attachments": {},
   "cell_type": "markdown",
   "metadata": {},
   "source": [
    "### 4.3. Tupple\n",
    "Tupple is Data Structure of container in python that is _immutable_. in short, it's read-only list.\n",
    "\n",
    "Usually we use parentheses `()` to define a tupple\n",
    "```python\n",
    "point = (1, 2)\n",
    "type(point)\n",
    "``` \n",
    "_Exercise :_\n",
    "```python\n",
    "points = (1, 2) + (3, 4)\n",
    "repetition = (1, 2) * 3\n",
    "```\n",
    "Tupple is immutable (cannot be changed)\n",
    "```python\n",
    "point[0] = 3\n",
    "```"
   ]
  },
  {
   "cell_type": "code",
   "execution_count": null,
   "metadata": {},
   "outputs": [],
   "source": [
    "point = (1, 2)\n",
    "point = point * 3\n",
    "point[-2:]"
   ]
  },
  {
   "attachments": {},
   "cell_type": "markdown",
   "metadata": {},
   "source": [
    "#### Swapping Variable\n",
    "```python\n",
    "x = 10\n",
    "y = 20\n",
    "```\n",
    "_Exercise :_\n",
    "**Swap the value x to 20 and y to 10**"
   ]
  },
  {
   "cell_type": "code",
   "execution_count": null,
   "metadata": {},
   "outputs": [],
   "source": []
  },
  {
   "cell_type": "code",
   "execution_count": null,
   "metadata": {},
   "outputs": [],
   "source": []
  },
  {
   "cell_type": "code",
   "execution_count": null,
   "metadata": {},
   "outputs": [],
   "source": []
  },
  {
   "attachments": {},
   "cell_type": "markdown",
   "metadata": {},
   "source": [
    "## 5. Comparison Operator\n",
    "We use Comparison Operator to __compare value__.\n",
    "```python\n",
    "10 > 3\n",
    "10 >= 3\n",
    "3 == 50\n",
    "10 == \"10\"\n",
    "20 != \"20\"\n",
    "\"bag\" > \"apple\"\n",
    "\"bag\" == \"BAG\"\n",
    "```\n",
    "We sort \"bag\", it's comes after \"apple\" so, it's considered as __Greater__\n",
    "\n",
    "Confused ?\n",
    "Use function `ord()`\n",
    "```\n",
    "ord(\"b\")\n",
    "ord(\"B\")\n",
    "```"
   ]
  },
  {
   "cell_type": "code",
   "execution_count": null,
   "metadata": {},
   "outputs": [],
   "source": []
  },
  {
   "attachments": {},
   "cell_type": "markdown",
   "metadata": {},
   "source": [
    "## Control Flow\n",
    "\n",
    "\n",
    "### 6. Conditional Statement \n",
    "#### 6.1. If - Else\n",
    "We use `if` to make decision expression\n",
    "```python\n",
    "temperature = 38\n",
    "\n",
    "if temperature > 36:\n",
    "    print(\"You have a fever\")\n",
    "else:\n",
    "    print(\"You are cold\")\n",
    "```\n",
    "What if `temperature = 15` ?\n"
   ]
  },
  {
   "cell_type": "code",
   "execution_count": null,
   "metadata": {},
   "outputs": [],
   "source": []
  },
  {
   "cell_type": "code",
   "execution_count": null,
   "metadata": {},
   "outputs": [],
   "source": []
  },
  {
   "attachments": {},
   "cell_type": "markdown",
   "metadata": {},
   "source": [
    "#### 6.2. If - Elif\n",
    "We use `Elif` for multiple condition\n",
    "```python\n",
    "temperature = 33\n",
    "\n",
    "if temperature > 36:\n",
    "    print(\"You have a fever\")\n",
    "elif temperature < 34:\n",
    "    print(\"You're cold\")\n",
    "else:\n",
    "    print(\"Normal body temperature\")\n",
    "```"
   ]
  },
  {
   "cell_type": "code",
   "execution_count": null,
   "metadata": {},
   "outputs": [],
   "source": []
  },
  {
   "attachments": {},
   "cell_type": "markdown",
   "metadata": {},
   "source": [
    "### 7. For Looping\n",
    "What if we want to iterate some task multiple times? We can use `for` loops.\n",
    "```python\n",
    "print(\"Sending a message\")\n",
    "print(\"Sending a message\")\n",
    "print(\"Sending a message\")\n",
    "print(\"Sending a message\")\n",
    "print(\"Sending a message\")\n",
    "```\n",
    "We can use for loops :\n",
    "```python\n",
    "for number in range(3):\n",
    "    print(\"Sending a message\")\n",
    "```"
   ]
  },
  {
   "cell_type": "code",
   "execution_count": null,
   "metadata": {},
   "outputs": [],
   "source": []
  },
  {
   "cell_type": "code",
   "execution_count": null,
   "metadata": {},
   "outputs": [],
   "source": []
  },
  {
   "attachments": {},
   "cell_type": "markdown",
   "metadata": {},
   "source": [
    "#### Exercise :\n",
    "Create for loops that print :\n",
    "```\n",
    "Attempt 1\n",
    "Attempt 2\n",
    "Attempt 3\n",
    "Attempt 4\n",
    "Attempt 5\n",
    "```"
   ]
  },
  {
   "cell_type": "code",
   "execution_count": null,
   "metadata": {},
   "outputs": [],
   "source": []
  },
  {
   "attachments": {},
   "cell_type": "markdown",
   "metadata": {},
   "source": [
    "#### Exercise :\n",
    "Create for loops that print :\n",
    "```\n",
    "Attempt .\n",
    "Attempt ..\n",
    "Attempt ...\n",
    "Attempt ....\n",
    "Attempt .....\n",
    "```"
   ]
  },
  {
   "cell_type": "code",
   "execution_count": null,
   "metadata": {},
   "outputs": [],
   "source": []
  },
  {
   "attachments": {},
   "cell_type": "markdown",
   "metadata": {},
   "source": [
    "#### Combined with conditional statement\n",
    "1-10 bilangan genap saja\n",
    "\n",
    "```python\n",
    "for i in range(1,11):\n",
    "    if i%2 == 0:\n",
    "        print(i)\n",
    "```"
   ]
  },
  {
   "cell_type": "code",
   "execution_count": null,
   "metadata": {},
   "outputs": [],
   "source": []
  },
  {
   "attachments": {},
   "cell_type": "markdown",
   "metadata": {},
   "source": [
    "### 8. While Looping\n",
    "While loop used when we want to repeat something `when the condition is True`. We Evaluating first then loops if the condition is still comply\n",
    "\n",
    "**Loop until angka = 10**\n",
    "```python\n",
    "angka = 1\n",
    "while angka < 10:\n",
    "    print(angka)\n",
    "    angka += 1\n",
    "```\n"
   ]
  },
  {
   "cell_type": "code",
   "execution_count": null,
   "metadata": {},
   "outputs": [],
   "source": []
  },
  {
   "cell_type": "code",
   "execution_count": null,
   "metadata": {},
   "outputs": [],
   "source": []
  },
  {
   "attachments": {},
   "cell_type": "markdown",
   "metadata": {},
   "source": [
    "### 10. Function\n",
    "To create function start with keyword `def` then name then using `:`\n",
    "\n",
    "```python\n",
    "def greet():\n",
    "    print(\"Hi there\")\n",
    "    print(\"Welcome aboard\")\n",
    "    \n",
    "greet()\n",
    "```\n",
    "Function with input using parameters\n",
    "```python\n",
    "def greet(first_name, last_name):\n",
    "    print(f\"Hi {first_name} {last_name}\")\n",
    "    print(\"Welcome aboard\")\n",
    "    \n",
    "greet(\"Benedict\")\n",
    "```\n",
    "Error ?"
   ]
  },
  {
   "cell_type": "code",
   "execution_count": null,
   "metadata": {},
   "outputs": [],
   "source": []
  },
  {
   "cell_type": "code",
   "execution_count": null,
   "metadata": {},
   "outputs": [],
   "source": []
  },
  {
   "attachments": {},
   "cell_type": "markdown",
   "metadata": {},
   "source": [
    "### Print with return value\n",
    "```python\n",
    "def tambah(angka1, angka2):\n",
    "    return angka1 + angka2\n",
    "    \n",
    "    \n",
    "jumlah = tambah(20, 30)\n",
    "```"
   ]
  },
  {
   "cell_type": "code",
   "execution_count": null,
   "metadata": {},
   "outputs": [],
   "source": []
  },
  {
   "cell_type": "code",
   "execution_count": null,
   "metadata": {},
   "outputs": [],
   "source": []
  },
  {
   "attachments": {},
   "cell_type": "markdown",
   "metadata": {},
   "source": [
    "___\n",
    "## Numpy (Numerical Python)\n",
    "NumPy is the fundamental package for scientific computing in Python. It is a Python library that provides a multidimensional array object, various derived objects (such as masked arrays and matrices), and an assortment of routines for fast operations on arrays, including mathematical, logical, shape manipulation, sorting, selecting, I/O, discrete Fourier transforms, basic linear algebra, basic statistical operations, random simulation and much more. [more-resource](https://docs.scipy.org/doc/numpy-1.13.0/user/whatisnumpy.html)\n",
    "### 1. Importing package\n",
    "we import numpy using keyword `import`\n",
    "\n",
    "```python\n",
    "import numpy\n",
    "```"
   ]
  },
  {
   "cell_type": "code",
   "execution_count": null,
   "metadata": {},
   "outputs": [],
   "source": []
  },
  {
   "attachments": {},
   "cell_type": "markdown",
   "metadata": {},
   "source": [
    "### Import using Alias\n",
    "\n",
    "to make function calls quick, we can also abbreviate or create alias when we import the package\n",
    "\n",
    "```python\n",
    "import numpy as np\n",
    "```"
   ]
  },
  {
   "cell_type": "code",
   "execution_count": null,
   "metadata": {},
   "outputs": [],
   "source": []
  },
  {
   "attachments": {},
   "cell_type": "markdown",
   "metadata": {},
   "source": [
    "### 2. Numpy Array\n",
    "At the core of the NumPy package, is the ndarray object. This encapsulates n-dimensional arrays of homogeneous data types, with many operations being performed in compiled code for performance. There are several important differences between NumPy arrays and the standard Python sequences\n",
    "\n",
    "**Let's compare the data structure**\n",
    "\n",
    "For example we have **3 rectangle** which each having `panjang` and `lebar` <br>\n",
    "create standard `list` called `panjang` and `lebar`\n",
    "```python\n",
    "panjang = [4,5,6]\n",
    "lebar = [3,4,5]\n",
    "```\n",
    "Create variable `luas` which is `panjang` * `lebar`"
   ]
  },
  {
   "cell_type": "code",
   "execution_count": null,
   "metadata": {},
   "outputs": [],
   "source": []
  },
  {
   "cell_type": "code",
   "execution_count": null,
   "metadata": {},
   "outputs": [],
   "source": []
  },
  {
   "attachments": {},
   "cell_type": "markdown",
   "metadata": {},
   "source": [
    "There's `TypeError: can't multiply sequence by non-int of type 'list'`\n",
    "\n",
    "`list` data cannot do multiplication, or you can using for loop to do multiplication each element which is not efficient.\n",
    "\n",
    "Otherwise you can use `Numpy array` data type\n",
    "```python\n",
    "# Numpy already imported as np\n",
    "\n",
    "panjang = np.array([4,5,6])\n",
    "lebar = np.array([3,4,5])\n",
    "```\n"
   ]
  },
  {
   "cell_type": "code",
   "execution_count": null,
   "metadata": {},
   "outputs": [],
   "source": []
  },
  {
   "attachments": {},
   "cell_type": "markdown",
   "metadata": {},
   "source": [
    "Check Datatype of `panjang` and `lebar` using `type()`"
   ]
  },
  {
   "cell_type": "code",
   "execution_count": null,
   "metadata": {},
   "outputs": [],
   "source": []
  },
  {
   "attachments": {},
   "cell_type": "markdown",
   "metadata": {},
   "source": [
    "Now Declare variable `luas` which is `panjang` times `lebar`\n",
    "```python\n",
    "luas = panjang * lebar\n",
    "```\n",
    "Then print the `luas` result"
   ]
  },
  {
   "cell_type": "code",
   "execution_count": null,
   "metadata": {},
   "outputs": [],
   "source": []
  },
  {
   "attachments": {},
   "cell_type": "markdown",
   "metadata": {},
   "source": [
    "### 3. Array Shape\n",
    "in the example above when we check _datatype_ using `type(luas)` we will get output \n",
    "```python\n",
    "numpy.ndarray\n",
    "```\n",
    "Means that the datatype of `luas` is `N dimensional Array of Numpy`\n",
    "\n",
    "to check the `N` or **Array shape** we can use _attribute_ `.shape` \n",
    "```\n",
    "luas.shape\n",
    "```"
   ]
  },
  {
   "cell_type": "code",
   "execution_count": null,
   "metadata": {},
   "outputs": [],
   "source": []
  },
  {
   "attachments": {},
   "cell_type": "markdown",
   "metadata": {},
   "source": [
    "Now, create new array below:\n",
    "```python\n",
    "matrix = np.array([[1,2,3],\n",
    "                   [4,5,6]])\n",
    "```\n",
    "_Be careful with [ ] marks_"
   ]
  },
  {
   "cell_type": "code",
   "execution_count": null,
   "metadata": {},
   "outputs": [],
   "source": []
  },
  {
   "attachments": {},
   "cell_type": "markdown",
   "metadata": {},
   "source": [
    "Then, print and check `.shape` of the `matrix`, compare with `luas`\n",
    "\n",
    "What is the differences ?"
   ]
  },
  {
   "cell_type": "code",
   "execution_count": null,
   "metadata": {},
   "outputs": [],
   "source": []
  },
  {
   "cell_type": "code",
   "execution_count": null,
   "metadata": {},
   "outputs": [],
   "source": []
  },
  {
   "attachments": {},
   "cell_type": "markdown",
   "metadata": {},
   "source": [
    "### 4. Array Reshaping\n",
    "\n",
    "Let's take a look of our `matrix` array:\n",
    "```python\n",
    "array([[1, 2, 3],\n",
    "       [4, 5, 6]])\n",
    "\n",
    "\n",
    "print(matrix.shape)\n",
    "\n",
    "(2, 3)\n",
    "```"
   ]
  },
  {
   "cell_type": "code",
   "execution_count": null,
   "metadata": {},
   "outputs": [],
   "source": []
  },
  {
   "attachments": {},
   "cell_type": "markdown",
   "metadata": {},
   "source": [
    "Using `.reshape(x,y)` method function, try to create this array called `new_matrix`\n",
    "```python\n",
    "array([[1, 2],\n",
    "       [3, 4],\n",
    "       [5, 6]])\n",
    "```"
   ]
  },
  {
   "cell_type": "code",
   "execution_count": null,
   "metadata": {},
   "outputs": [],
   "source": []
  }
 ],
 "metadata": {
  "kernelspec": {
   "display_name": "base",
   "language": "python",
   "name": "python3"
  },
  "language_info": {
   "codemirror_mode": {
    "name": "ipython",
    "version": 3
   },
   "file_extension": ".py",
   "mimetype": "text/x-python",
   "name": "python",
   "nbconvert_exporter": "python",
   "pygments_lexer": "ipython3",
   "version": "3.9.5 (default, May 18 2021, 14:42:02) [MSC v.1916 64 bit (AMD64)]"
  },
  "latex_envs": {
   "LaTeX_envs_menu_present": true,
   "autoclose": false,
   "autocomplete": true,
   "bibliofile": "biblio.bib",
   "cite_by": "apalike",
   "current_citInitial": 1,
   "eqLabelWithNumbers": true,
   "eqNumInitial": 1,
   "hotkeys": {
    "equation": "Ctrl-E",
    "itemize": "Ctrl-I"
   },
   "labels_anchors": false,
   "latex_user_defs": false,
   "report_style_numbering": false,
   "user_envs_cfg": false
  },
  "varInspector": {
   "cols": {
    "lenName": 16,
    "lenType": 16,
    "lenVar": 40
   },
   "kernels_config": {
    "python": {
     "delete_cmd_postfix": "",
     "delete_cmd_prefix": "del ",
     "library": "var_list.py",
     "varRefreshCmd": "print(var_dic_list())"
    },
    "r": {
     "delete_cmd_postfix": ") ",
     "delete_cmd_prefix": "rm(",
     "library": "var_list.r",
     "varRefreshCmd": "cat(var_dic_list()) "
    }
   },
   "types_to_exclude": [
    "module",
    "function",
    "builtin_function_or_method",
    "instance",
    "_Feature"
   ],
   "window_display": false
  },
  "vscode": {
   "interpreter": {
    "hash": "bbe054f82611da69a236c20d185807936886c22cfa3db0ebeb109fb4db8ace57"
   }
  }
 },
 "nbformat": 4,
 "nbformat_minor": 4
}
